{
 "cells": [
  {
   "cell_type": "code",
   "execution_count": 1,
   "metadata": {
    "deletable": false,
    "editable": false,
    "nbgrader": {
     "checksum": "262ee4f1cc793d5cc0302d24cbc64461",
     "grade": false,
     "grade_id": "cell-aa820d6aaf4304db",
     "locked": true,
     "schema_version": 1,
     "solution": false
    }
   },
   "outputs": [],
   "source": [
    "version = \"v1.6.092820\""
   ]
  },
  {
   "cell_type": "markdown",
   "metadata": {
    "deletable": false,
    "editable": false,
    "nbgrader": {
     "checksum": "5820a78215f2be98f9c3c44453540960",
     "grade": false,
     "grade_id": "cell-24e63ee011a83003",
     "locked": true,
     "schema_version": 1,
     "solution": false
    }
   },
   "source": [
    "---\n",
    "# Assignment 3 Part 1: Single Time Series Forecasting (50 pts)\n",
    "\n",
    "In this assignment, we're going to practise forecasting a single time series. "
   ]
  },
  {
   "cell_type": "code",
   "execution_count": 2,
   "metadata": {
    "deletable": false,
    "editable": false,
    "nbgrader": {
     "checksum": "d940d1b99e988cc02a4365af87abae75",
     "grade": false,
     "grade_id": "cell-0153dc3ed86e1f61",
     "locked": true,
     "schema_version": 1,
     "solution": false
    }
   },
   "outputs": [],
   "source": [
    "import numpy as np\n",
    "import pandas as pd\n",
    "import matplotlib.pyplot as plt\n",
    "%matplotlib inline\n",
    "\n",
    "from pandas.plotting import register_matplotlib_converters\n",
    "register_matplotlib_converters()\n",
    "\n",
    "# Suppress warnings\n",
    "import warnings\n",
    "from statsmodels.tools.sm_exceptions import ValueWarning\n",
    "warnings.simplefilter(\"ignore\", ValueWarning)"
   ]
  },
  {
   "cell_type": "markdown",
   "metadata": {
    "deletable": false,
    "editable": false,
    "nbgrader": {
     "checksum": "03b238a216f1b5d3f9424fb61088c189",
     "grade": false,
     "grade_id": "cell-971449a9e8d421fe",
     "locked": true,
     "schema_version": 1,
     "solution": false
    }
   },
   "source": [
    "We will explore the same time series about **daily new COVID-19 cases globally** as we had in **Assignment 2 Part 1**. In order not to reinvent the wheel, let's import the `load_data` function you wrote previously. "
   ]
  },
  {
   "cell_type": "code",
   "execution_count": 14,
   "metadata": {
    "deletable": false,
    "nbgrader": {
     "checksum": "d2328da96b461f20cddfb116f305dad3",
     "grade": false,
     "grade_id": "cell-dff468a58e88a186",
     "locked": false,
     "schema_version": 1,
     "solution": true
    }
   },
   "outputs": [],
   "source": [
    "# Copy and paste the function you wrote in Assignment 2 Part 1 here and import any libraries necessary\n",
    "# We have tried a more elegant solution by using\n",
    "# from ipynb.fs.defs.assignment2_part1 import load_data\n",
    "# but it doesn't work with the autograder...\n",
    "\n",
    "def load_data():\n",
    "    daily_new_cases = None\n",
    "    \n",
    "    # YOUR CODE HERE\n",
    "    # YOUR CODE HERE\n",
    "    #Read file:\n",
    "    df= pd.read_csv('assets/time_series_covid19_confirmed_global.csv')\n",
    "    \n",
    "    #Melt dataframe for date columns: \n",
    "    df_melt = pd.melt(df, id_vars=['Province/State','Country/Region','Lat','Long'], var_name='date', value_name='confirmed')\n",
    "    \n",
    "    #Transform date column in to datetime object: \n",
    "    df_melt['date'] = pd.to_datetime(df_melt['date'])\n",
    "    \n",
    "    #Now, let's groupby data by date and get a sum of confirmed cases: \n",
    "    df_grouped_date = df_melt.groupby(['date'])['confirmed'].sum()\n",
    "    \n",
    "    #Ok, now to get daily cases, let's take the difference in number of confirmed cases from the previous day: \n",
    "    daily = []\n",
    "    for i in range(1,len(df_grouped_date)):\n",
    "        diff = df_grouped_date[i]-df_grouped_date[i-1]\n",
    "        daily.append(diff)\n",
    "    #Convert daily in to pandas series with df_grouped_date as index.\n",
    "    #Here, the first date entry will be empty, hence ignored\n",
    "    daily_new_cases = pd.Series(daily, index = df_grouped_date.index[1:])\n",
    "    \n",
    "    return daily_new_cases\n",
    "    raise NotImplementedError()\n",
    "    "
   ]
  },
  {
   "cell_type": "code",
   "execution_count": 15,
   "metadata": {},
   "outputs": [
    {
     "data": {
      "text/plain": [
       "date\n",
       "2020-01-23        99\n",
       "2020-01-24       287\n",
       "2020-01-25       493\n",
       "2020-01-26       684\n",
       "2020-01-27       809\n",
       "               ...  \n",
       "2020-08-17    209672\n",
       "2020-08-18    255096\n",
       "2020-08-19    274346\n",
       "2020-08-20    267183\n",
       "2020-08-21    270751\n",
       "Length: 212, dtype: int64"
      ]
     },
     "execution_count": 15,
     "metadata": {},
     "output_type": "execute_result"
    }
   ],
   "source": [
    "load_data()"
   ]
  },
  {
   "cell_type": "code",
   "execution_count": 4,
   "metadata": {
    "deletable": false,
    "editable": false,
    "nbgrader": {
     "checksum": "b6220c158d6265080d9d46648dff0632",
     "grade": true,
     "grade_id": "cell-da753c6330d318a8",
     "locked": true,
     "points": 0,
     "schema_version": 1,
     "solution": false
    }
   },
   "outputs": [],
   "source": [
    "# Sanity checks to make sure you have imported the correct function - no points awarded\n",
    "\n",
    "stu_ans = load_data()\n",
    "\n",
    "assert isinstance(stu_ans, pd.Series), \"Q0: Your function should return a pd.Series. \"\n",
    "assert len(stu_ans) == 212, \"Q0: The length of the series returned is incorrect. \"\n",
    "assert isinstance(stu_ans.index, pd.DatetimeIndex), \"Q0: The index of your series must be a pd.DatetimeIndex. \"\n",
    "assert ((\"2020-01-23\" <= stu_ans.index) & (stu_ans.index <= \"2020-08-21\")).all(), \"Q0: The index of your series contains an incorrect time range. \"\n",
    "assert not stu_ans.isna().any(), \"Q0: Your series contains NaN values. \"\n",
    "\n",
    "del stu_ans"
   ]
  },
  {
   "cell_type": "code",
   "execution_count": 5,
   "metadata": {},
   "outputs": [
    {
     "data": {
      "text/plain": [
       "date\n",
       "2020-01-23      99\n",
       "2020-01-24     287\n",
       "2020-01-25     493\n",
       "2020-01-26     684\n",
       "2020-01-27     809\n",
       "2020-01-28    2651\n",
       "2020-01-29     588\n",
       "2020-01-30    2068\n",
       "dtype: int64"
      ]
     },
     "execution_count": 5,
     "metadata": {},
     "output_type": "execute_result"
    }
   ],
   "source": [
    "#View time series: \n",
    "load_data()[0:8]"
   ]
  },
  {
   "cell_type": "markdown",
   "metadata": {
    "deletable": false,
    "editable": false,
    "nbgrader": {
     "checksum": "4704928f282c25524375bbd2d6936932",
     "grade": false,
     "grade_id": "cell-d63bebc6fef0f0d1",
     "locked": true,
     "schema_version": 1,
     "solution": false
    }
   },
   "source": [
    "## Question 1: Stationarity Tests (20 pts)\n",
    "\n",
    "Let's first try to understand whether our time series is stationary or not. Recall that a stationary time series has stable statistics, such as constant means and variances, over time. A non-stationary time series would not be very interesting to study, as it is essentially equivalent to a white noise, carrying little information. "
   ]
  },
  {
   "cell_type": "markdown",
   "metadata": {
    "deletable": false,
    "editable": false,
    "nbgrader": {
     "checksum": "6b2a0938a3473c62e96a999aa4a886e6",
     "grade": false,
     "grade_id": "cell-580c8a3fe199c750",
     "locked": true,
     "schema_version": 1,
     "solution": false
    }
   },
   "source": [
    "### Question 1a (15 pts)\n",
    "\n",
    "One way of determining stationarity is to calculate some summary statistics. A rolling mean and a rolling standard deviation are the mean and the standard deviation over a rolling window of values. They both have the same length as the original time series. For a rolling window of size $k$, the $j$-th component of the rolling mean $\\mu$ and the rolling standard deviation $\\sigma$ is precisely defined as:\n",
    "\n",
    "\\begin{align}\n",
    "\\mu_{j} &= \\frac{1}{\\min(k, j)} \\sum_{i = \\max(1,j - k + 1)}^{j} x_{i} = \\begin{cases}\n",
    "\\frac{1}{j} \\sum_{i = 1}^{j} x_{i} & \\text{if } j \\leq k \\\\\n",
    "\\frac{1}{k} \\sum_{i = j - k + 1}^{j} x_{i} & \\text{if } j > k\n",
    "\\end{cases} \n",
    "\\\\\n",
    "\\sigma_{j} &= \\frac{1}{\\min(k, j)} \\sum_{i = \\max(1,j - k + 1)}^{j} \\left(x_{i} - \\mu_{j}\\right)^{2} = \\begin{cases}\n",
    "\\frac{1}{j} \\sum_{i = 1}^{j} \\left(x_{i} - \\mu_{j}\\right)^{2} & \\text{if } j \\leq k \\\\\n",
    "\\frac{1}{k} \\sum_{i = j - k + 1}^{j} \\left(x_{i} - \\mu_{j}\\right)^{2} & \\text{if } j > k\n",
    "\\end{cases}\n",
    "\\end{align}\n",
    "\n",
    "where $j \\geq 1$.\n",
    "\n",
    "Complete the function below that takes as input a time series and that calculates the rolling mean and the rolling standard deviation of the input time series. The size of the rolling window is governed by the argument `wd_size`. \n",
    "\n",
    "**This function should return a `tuple` of length 2, whose first component is the rolling mean as a `np.ndarray` and whose last component is the rolling standard deviation as a `np.ndarray`.**"
   ]
  },
  {
   "cell_type": "markdown",
   "metadata": {},
   "source": [
    "### Testing code: "
   ]
  },
  {
   "cell_type": "code",
   "execution_count": 6,
   "metadata": {},
   "outputs": [],
   "source": [
    "#Testing for calculating rolling std.\n",
    "#load_data().transform(lambda x: x.rolling(7,min_periods=1).std(ddof=0))"
   ]
  },
  {
   "cell_type": "code",
   "execution_count": 7,
   "metadata": {},
   "outputs": [],
   "source": [
    "def calc_rolling_stats_test(ser, wd_size=7):\n",
    "    \n",
    "    #Calculate rolling mean and rolling standard deviation on time series: \n",
    "    rolling_mean = ser.rolling(window= wd_size, min_periods =1).mean().values\n",
    "    \n",
    "    #Applying Transformation to caluclate rolling standard deviation:\n",
    "    rolling_std = ser.transform(lambda x: x.rolling(wd_size,min_periods=1).std(ddof=0)).values  \n",
    "    #Store results as array:\n",
    "    result = rolling_mean, rolling_std\n",
    "    \n",
    "    return result"
   ]
  },
  {
   "cell_type": "code",
   "execution_count": 8,
   "metadata": {},
   "outputs": [
    {
     "data": {
      "text/plain": [
       "(array([9.90000000e+01, 1.93000000e+02, 2.93000000e+02, 3.90750000e+02,\n",
       "        4.74400000e+02, 8.37166667e+02, 8.01571429e+02, 1.08285714e+03,\n",
       "        1.28371429e+03, 1.51485714e+03, 2.09557143e+03, 2.42285714e+03,\n",
       "        2.61714286e+03, 3.06814286e+03, 3.22400000e+03, 3.49542857e+03,\n",
       "        3.58442857e+03, 3.33885714e+03, 3.26871429e+03, 2.98742857e+03,\n",
       "        2.51214286e+03, 4.22557143e+03, 4.64471429e+03, 4.56014286e+03,\n",
       "        4.43928571e+03, 4.35728571e+03, 4.33442857e+03, 4.34614286e+03,\n",
       "        2.26142857e+03, 1.41885714e+03, 1.36442857e+03, 1.10671429e+03,\n",
       "        8.96571429e+02, 7.49571429e+02, 8.17714286e+02, 9.32571429e+02,\n",
       "        1.03942857e+03, 1.05857143e+03, 1.34485714e+03, 1.54628571e+03,\n",
       "        1.79271429e+03, 1.98157143e+03, 2.18542857e+03, 2.55200000e+03,\n",
       "        2.85814286e+03, 3.08242857e+03, 3.35757143e+03, 3.70700000e+03,\n",
       "        4.47328571e+03, 4.89600000e+03, 6.39085714e+03, 7.40085714e+03,\n",
       "        8.42871429e+03, 9.96685714e+03, 1.15130000e+04, 1.32177143e+04,\n",
       "        1.63847143e+04, 1.85565714e+04, 2.15852857e+04, 2.47668571e+04,\n",
       "        2.86954286e+04, 3.23125714e+04, 3.67730000e+04, 4.17698571e+04,\n",
       "        4.67398571e+04, 5.17894286e+04, 5.55261429e+04, 5.87368571e+04,\n",
       "        6.37715714e+04, 6.73994286e+04, 7.00447143e+04, 7.27240000e+04,\n",
       "        7.45535714e+04, 7.62872857e+04, 7.74351429e+04, 7.75005714e+04,\n",
       "        7.85814286e+04, 7.93315714e+04, 7.99658571e+04, 7.94647143e+04,\n",
       "        8.30507143e+04, 8.26215714e+04, 8.16172857e+04, 8.11971429e+04,\n",
       "        8.26287143e+04, 8.26464286e+04, 8.22182857e+04, 7.98881429e+04,\n",
       "        8.04138571e+04, 8.11914286e+04, 8.06124286e+04, 7.95144286e+04,\n",
       "        7.94038571e+04, 8.09724286e+04, 7.98922857e+04, 7.92302857e+04,\n",
       "        7.92338571e+04, 7.92711429e+04, 7.85115714e+04, 7.85272857e+04,\n",
       "        7.80612857e+04, 7.87291429e+04, 7.97837143e+04, 8.04531429e+04,\n",
       "        8.23068571e+04, 8.30785714e+04, 8.37161429e+04, 8.43118571e+04,\n",
       "        8.41158571e+04, 8.41358571e+04, 8.46477143e+04, 8.38981429e+04,\n",
       "        8.50414286e+04, 8.57341429e+04, 8.71021429e+04, 8.74271429e+04,\n",
       "        8.91485714e+04, 9.09797143e+04, 9.35872857e+04, 9.49081429e+04,\n",
       "        9.64128571e+04, 9.78224286e+04, 1.00223143e+05, 1.00033429e+05,\n",
       "        9.94804286e+04, 9.94191429e+04, 1.01273429e+05, 1.03312143e+05,\n",
       "        1.07960714e+05, 1.09708143e+05, 1.10886143e+05, 1.14931143e+05,\n",
       "        1.17320143e+05, 1.18411857e+05, 1.19797143e+05, 1.19529143e+05,\n",
       "        1.20205857e+05, 1.21196571e+05, 1.21701429e+05, 1.23797571e+05,\n",
       "        1.25391714e+05, 1.25142286e+05, 1.25142857e+05, 1.28168429e+05,\n",
       "        1.30667571e+05, 1.33119143e+05, 1.34261714e+05, 1.34531714e+05,\n",
       "        1.41927000e+05, 1.45023714e+05, 1.44329429e+05, 1.46848429e+05,\n",
       "        1.50256000e+05, 1.54433286e+05, 1.59858571e+05, 1.61362286e+05,\n",
       "        1.64296286e+05, 1.69026571e+05, 1.72009429e+05, 1.73214286e+05,\n",
       "        1.79845714e+05, 1.84097571e+05, 1.85833571e+05, 1.88049143e+05,\n",
       "        1.91028429e+05, 1.92341571e+05, 1.97630857e+05, 1.96794714e+05,\n",
       "        1.99720714e+05, 2.03865000e+05, 2.07071286e+05, 2.08510429e+05,\n",
       "        2.12148286e+05, 2.13690429e+05, 2.16450000e+05, 2.19942286e+05,\n",
       "        2.21275143e+05, 2.24348000e+05, 2.27489714e+05, 2.29485429e+05,\n",
       "        2.31197429e+05, 2.38248857e+05, 2.42546429e+05, 2.48154714e+05,\n",
       "        2.50713286e+05, 2.50518000e+05, 2.53328857e+05, 2.56002286e+05,\n",
       "        2.57240857e+05, 2.56940000e+05, 2.58216429e+05, 2.57526000e+05,\n",
       "        2.59786857e+05, 2.56362714e+05, 2.57254714e+05, 2.54685429e+05,\n",
       "        2.55334857e+05, 2.54018714e+05, 2.55269857e+05, 2.54565714e+05,\n",
       "        2.58202286e+05, 2.57628429e+05, 2.58455286e+05, 2.58567857e+05,\n",
       "        2.61933857e+05, 2.60313286e+05, 2.58643286e+05, 2.56033429e+05,\n",
       "        2.56109429e+05, 2.55737143e+05, 2.53051286e+05, 2.48237286e+05]),\n",
       " array([    0.        ,    94.        ,   160.90576953,   219.27878944,\n",
       "          257.79030238,   844.61715522,   786.80944455,   835.79447723,\n",
       "          787.97638005,   758.90248359,  1278.40769901,  1197.86016696,\n",
       "         1322.8758098 ,  1067.76380863,   986.96982151,   764.87643393,\n",
       "          621.3965509 ,   419.51721523,   488.89984785,   544.20974348,\n",
       "          965.09976221,  4556.65769921,  4613.77699982,  4653.28226489,\n",
       "         4702.18373932,  4738.25313544,  4749.73884567,  4740.15676138,\n",
       "         1867.31601558,   747.21586641,   705.2567632 ,   688.08174645,\n",
       "          590.14522599,   433.831059  ,   426.6814517 ,   449.4545447 ,\n",
       "          453.47825815,   485.24952554,   581.97384049,   517.26249603,\n",
       "          538.73176848,   442.86239628,   440.09182715,   638.14955703,\n",
       "          753.19574928,   810.21070578,   707.60902383,   829.76106716,\n",
       "         1433.11047469,  1305.2499487 ,  3501.72342991,  3691.86884261,\n",
       "         3589.3013134 ,  3625.84687363,  3493.62067611,  4063.91316394,\n",
       "         5421.64383913,  7007.52287305,  7682.76309511,  7304.22154703,\n",
       "         8160.73972237,  7221.55137383,  7621.0645863 , 10927.38610005,\n",
       "        12113.80150818, 12409.42902862, 10024.44603996,  8749.67737248,\n",
       "         7192.25418384,  6059.40982174,  7408.18780066,  8228.30926914,\n",
       "         8321.32964748,  5945.49634392,  4064.49678588,  4051.13221765,\n",
       "         4543.12506847,  5316.57198517,  5960.71641017,  6044.72711695,\n",
       "         7622.32294391,  8252.78131225,  9258.31503822,  9217.27831581,\n",
       "        10625.9049593 , 10634.26948068, 10911.50833772,  9144.0444854 ,\n",
       "         8633.15177389,  7855.70142103,  8008.22096986,  6005.63604   ,\n",
       "         5858.89393337,  5657.27003465,  6325.89087378,  7162.70714414,\n",
       "         7160.74304661,  7148.56923604,  6307.47261717,  6328.56564011,\n",
       "         5948.01591684,  5587.35402311,  4096.14807609,  3670.45187676,\n",
       "         4632.6801693 ,  5211.42604167,  5887.99285298,  5862.33984073,\n",
       "         6100.94389485,  6074.8104598 ,  5850.91298649,  5435.62374995,\n",
       "         7017.7445269 ,  7816.69264054,  8522.63274931,  8137.10797043,\n",
       "         6743.89592483,  6722.09983592,  7323.2467178 ,  8564.21689237,\n",
       "         9556.20886318, 10022.43032769,  6508.0913908 ,  6862.84186985,\n",
       "         7277.34611865,  7248.95500703,  9940.91763308, 12112.05689065,\n",
       "        17167.88697968, 16398.19689939, 14954.57819464, 13162.28108138,\n",
       "        12188.98554819, 12652.10867155, 13387.84356292, 13038.41339415,\n",
       "        12511.82602213, 10625.69490645, 10680.43127617, 11422.05976993,\n",
       "        12481.23274262, 12386.38664842, 12386.8854546 , 11428.70102427,\n",
       "         6165.38463305,  6572.68539224,  7282.63372128,  7453.51784086,\n",
       "        17426.52195444, 18006.85244737, 18525.02454101, 16026.64291429,\n",
       "        17037.90835586, 18054.4495245 , 18601.35353644, 20562.7042254 ,\n",
       "        21274.33572382, 15788.48204824, 10640.30637122, 10293.84398164,\n",
       "        18535.56877014, 20885.12750299, 21901.52594721, 21798.62064069,\n",
       "        19276.62820884, 17192.70016903, 16355.6062073 , 15434.20148996,\n",
       "        18805.96989343, 22104.19286018, 22022.06445956, 20661.75395581,\n",
       "        14380.18274982, 14732.14491082, 15884.11135155, 20192.5394194 ,\n",
       "        21262.13149125, 21842.1984961 , 18362.00275969, 14920.81811102,\n",
       "        14606.5158636 , 22596.01974071, 27301.50907319, 30445.31841428,\n",
       "        30205.36805042, 30441.41157793, 26985.01923782, 25801.36008438,\n",
       "        27120.96707836, 26846.54762588, 28148.81352921, 28264.90251177,\n",
       "        25089.95404214, 30465.1809294 , 30425.63653854, 28309.63913509,\n",
       "        28942.88309476, 27505.85546863, 27526.16740189, 28240.23691581,\n",
       "        22317.44645988, 22351.94919501, 22936.7773905 , 23069.29283348,\n",
       "        27393.87664335, 27823.86926833, 30192.65300279, 33357.48162752,\n",
       "        33354.6530995 , 33133.7543922 , 31283.40098297, 24956.79386296]))"
      ]
     },
     "execution_count": 8,
     "metadata": {},
     "output_type": "execute_result"
    }
   ],
   "source": [
    "#Test Result:\n",
    "calc_rolling_stats_test(load_data(), wd_size =7)"
   ]
  },
  {
   "cell_type": "markdown",
   "metadata": {},
   "source": [
    "### Implementing Code: "
   ]
  },
  {
   "cell_type": "code",
   "execution_count": 9,
   "metadata": {
    "deletable": false,
    "nbgrader": {
     "checksum": "f7fbec1a416995ead5486e4a840bbd86",
     "grade": false,
     "grade_id": "cell-993d3b939f534f62",
     "locked": false,
     "schema_version": 1,
     "solution": true
    }
   },
   "outputs": [],
   "source": [
    "def calc_rolling_stats(ser, wd_size=7):\n",
    "    \"\"\"\n",
    "    Takes in a series and returns the rolling mean and the rolling std for a window of size wd_size\n",
    "    \"\"\"\n",
    "    \n",
    "    rolling_mean, rolling_std = None, None\n",
    "    \n",
    "    # YOUR CODE HERE\n",
    "    #Calculate rolling mean and rolling standard deviation on time series: \n",
    "    rolling_mean = ser.rolling(window= wd_size, min_periods =1).mean().values\n",
    "    \n",
    "    #Applying Transformation to calculate rolling standard deviation, ddof=0:\n",
    "    rolling_std = ser.transform(lambda x: x.rolling(wd_size,min_periods=1).std(ddof=0)).values  \n",
    "    #Store results as array:\n",
    "    result = rolling_mean, rolling_std\n",
    "    \n",
    "    return result\n",
    "    raise NotImplementedError()\n",
    "    "
   ]
  },
  {
   "cell_type": "code",
   "execution_count": 10,
   "metadata": {
    "deletable": false,
    "editable": false,
    "nbgrader": {
     "checksum": "d99461f3d58414707c0926335656f2ad",
     "grade": true,
     "grade_id": "cell-a7b7858dc829b35f",
     "locked": true,
     "points": 15,
     "schema_version": 1,
     "solution": false
    }
   },
   "outputs": [],
   "source": [
    "# Autograder tests\n",
    "\n",
    "stu_ser, wd_size = load_data(), 7\n",
    "stu_ans = calc_rolling_stats(stu_ser, wd_size)\n",
    "\n",
    "assert isinstance(stu_ans, tuple), \"Q1a: Your function should return a tuple. \"\n",
    "assert len(stu_ans) == 2, \"Q1a: The length of the tuple returned is incorrect. \"\n",
    "assert isinstance(stu_ans[0], np.ndarray), \"Q1a: Please return the rolling mean as np.ndarray. \"\n",
    "assert isinstance(stu_ans[1], np.ndarray), \"Q1a: Please return the rolling std as np.ndarray. \"\n",
    "assert len(stu_ans[0]) == len(stu_ser), \"Q1a: Your rolling mean should be of the same length as your data. \"\n",
    "assert len(stu_ans[1]) == len(stu_ser), \"Q1a: Your rolling std should be of the same length as your data. \"\n",
    "\n",
    "# Some hidden tests\n",
    "\n",
    "\n",
    "del stu_ans, stu_ser, wd_size"
   ]
  },
  {
   "cell_type": "markdown",
   "metadata": {
    "deletable": false,
    "editable": false,
    "nbgrader": {
     "checksum": "427730ca856df179b969bf99fccf02c4",
     "grade": false,
     "grade_id": "cell-ab6d3c0e1ad2fb0c",
     "locked": true,
     "schema_version": 1,
     "solution": false
    }
   },
   "source": [
    "Let's plot and see the rolling statistics together with the original time series. Is our time series stationary? Why or why not? "
   ]
  },
  {
   "cell_type": "code",
   "execution_count": 11,
   "metadata": {},
   "outputs": [
    {
     "data": {
      "image/png": "[encoded data removed]",
      "text/plain": [
       "<Figure size 720x432 with 1 Axes>"
      ]
     },
     "metadata": {
      "needs_background": "light"
     },
     "output_type": "display_data"
    }
   ],
   "source": [
    "# Let's plot and see the rolling statistics\n",
    "\n",
    "ser, wd_size = load_data(), 7\n",
    "rolling_mean, rolling_std = calc_rolling_stats(ser, wd_size)\n",
    "\n",
    "fig, ax = plt.subplots(figsize=(10, 6))\n",
    "ax.plot(ser, label=\"Original\")\n",
    "ax.plot(pd.Series(rolling_mean, index=ser.index), label=\"Rolling Mean\")\n",
    "ax.plot(pd.Series(rolling_std, index=ser.index), label=\"Rolling Std\")\n",
    "\n",
    "ax.set_xlabel(\"Day\")\n",
    "ax.set_ylabel(\"# Cases\")\n",
    "ax.set_title(\"Daily New COVID-19 Cases Worldwide\\n\" + f\"Rolling Stats with Window Size = {wd_size} Days\")\n",
    "ax.legend()\n",
    "\n",
    "del fig, ax, ser, wd_size, rolling_mean, rolling_std"
   ]
  },
  {
   "cell_type": "markdown",
   "metadata": {
    "deletable": false,
    "editable": false,
    "nbgrader": {
     "checksum": "518c57d9da06d49a40e3856fc5cb58b1",
     "grade": false,
     "grade_id": "cell-902e515e7633ecbd",
     "locked": true,
     "schema_version": 1,
     "solution": false
    }
   },
   "source": [
    "### Question 1b (5 pts)\n",
    "\n",
    "Now let's see whether the *log return* of our time series is stationary. Complete the function below that computes the log return of a given time series and that returns the result as a `pd.Series` like the following:\n",
    "\n",
    "```\n",
    "2020-01-24    1.064362\n",
    "2020-01-25    0.541027\n",
    "2020-01-26    0.327449\n",
    "2020-01-27    0.167841\n",
    "2020-01-28    1.186893\n",
    "                ...   \n",
    "2020-08-17   -0.013336\n",
    "2020-08-18    0.196096\n",
    "2020-08-19    0.072750\n",
    "2020-08-20   -0.026456\n",
    "2020-08-21    0.013266\n",
    "Length: 211, dtype: float64\n",
    "```\n",
    "\n",
    "where\n",
    "* the index of the series is a `pd.DatetimeIndex`; \n",
    "* the values of the series are the log returns; and\n",
    "* the series doesn't contain any `NaN` values. \n",
    "\n",
    "**This function should return a `pd.Series`, whose index is a `pd.DatetimeIndex`.**"
   ]
  },
  {
   "cell_type": "markdown",
   "metadata": {},
   "source": [
    "### Testing code: "
   ]
  },
  {
   "cell_type": "code",
   "execution_count": 12,
   "metadata": {},
   "outputs": [],
   "source": [
    "#Calculate log return on given time series: \n",
    "#Log return: y = log(yj) - log(yj-1)"
   ]
  },
  {
   "cell_type": "code",
   "execution_count": 13,
   "metadata": {},
   "outputs": [],
   "source": [
    "def calc_log_ret_test(ser):\n",
    "    \n",
    "    #Empty list:\n",
    "    log_return = []\n",
    "    \n",
    "    #Iterate over time series\n",
    "    for i in range(1,len(ser)):\n",
    "        log_return.append(np.log(ser[i])-np.log(ser[i-1]))  #Calculate log return as per formula above\n",
    "\n",
    "    result = pd.Series(log_return, index = ser.index[1:])  \n",
    "    return result\n",
    "    #Note: we are calculating log return at position i using i-1  \n",
    "    #Hence, we the 1.064362 belongs to i and not i-1, hence index starts after the previous value. "
   ]
  },
  {
   "cell_type": "code",
   "execution_count": 14,
   "metadata": {},
   "outputs": [
    {
     "data": {
      "text/plain": [
       "date\n",
       "2020-01-24    1.064362\n",
       "2020-01-25    0.541027\n",
       "2020-01-26    0.327449\n",
       "2020-01-27    0.167841\n",
       "2020-01-28    1.186893\n",
       "                ...   \n",
       "2020-08-17   -0.013336\n",
       "2020-08-18    0.196096\n",
       "2020-08-19    0.072750\n",
       "2020-08-20   -0.026456\n",
       "2020-08-21    0.013266\n",
       "Length: 211, dtype: float64"
      ]
     },
     "execution_count": 14,
     "metadata": {},
     "output_type": "execute_result"
    }
   ],
   "source": [
    "#Test result: \n",
    "calc_log_ret_test(load_data())"
   ]
  },
  {
   "cell_type": "code",
   "execution_count": 15,
   "metadata": {
    "deletable": false,
    "nbgrader": {
     "checksum": "632adc5a67ebb06c286f9cbe18581c0c",
     "grade": false,
     "grade_id": "cell-7b3c4bc030367baf",
     "locked": false,
     "schema_version": 1,
     "solution": true
    }
   },
   "outputs": [],
   "source": [
    "def calc_log_ret(ser):\n",
    "    \"\"\"\n",
    "    Takes in a series and computes the log return\n",
    "    \"\"\"\n",
    "    \n",
    "    log_ret = None\n",
    "    \n",
    "    # YOUR CODE HERE\n",
    "    \n",
    "    #Empty list:\n",
    "    log_return = []\n",
    "    \n",
    "    #Iterate over time series\n",
    "    for i in range(1,len(ser)):\n",
    "        log_return.append(np.log(ser[i])-np.log(ser[i-1]))  #Calculate log return as per formula above\n",
    "\n",
    "    result = pd.Series(log_return, index = ser.index[1:])  \n",
    "    return result\n",
    "    #Note: we are calculating log return at position i using i-1  \n",
    "    #Hence, we the 1.064362 belongs to i and not i-1, hence index starts after the previous value. \n",
    "    raise NotImplementedError()\n",
    "    "
   ]
  },
  {
   "cell_type": "code",
   "execution_count": 16,
   "metadata": {
    "deletable": false,
    "editable": false,
    "nbgrader": {
     "checksum": "420d4528c7310761444897a9163a00e2",
     "grade": true,
     "grade_id": "cell-5599b6afd7087898",
     "locked": true,
     "points": 5,
     "schema_version": 1,
     "solution": false
    }
   },
   "outputs": [],
   "source": [
    "# Autograder tests\n",
    "\n",
    "stu_ser = load_data()\n",
    "stu_ans = calc_log_ret(stu_ser)\n",
    "\n",
    "assert isinstance(stu_ans, pd.Series), \"Q1b: Your function should return a pd.Series. \"\n",
    "assert len(stu_ans) == len(stu_ser) - 1, \"Q1b: The length of the series returned should be one less than that of your data. \"\n",
    "assert isinstance(stu_ans.index, pd.DatetimeIndex), \"Q1b: The index of your series must be a pd.DatetimeIndex. \"\n",
    "assert ((\"2020-01-24\" <= stu_ans.index) & (stu_ans.index <= \"2020-08-21\")).all(), \"Q1b: The index of your series contains an incorrect time range. \"\n",
    "assert not stu_ans.isna().any(), \"Q1b: Your series contains NaN values. \"\n",
    "\n",
    "# Some hidden tests\n",
    "\n",
    "\n",
    "del stu_ans, stu_ser"
   ]
  },
  {
   "cell_type": "markdown",
   "metadata": {
    "deletable": false,
    "editable": false,
    "nbgrader": {
     "checksum": "cf4b6a72880589495152367be67dbdb6",
     "grade": false,
     "grade_id": "cell-36e023c65cfab334",
     "locked": true,
     "schema_version": 1,
     "solution": false
    }
   },
   "source": [
    "This time let's plot and see the rolling statistics together with the log returns. Are the log returns of our time series stationary? Why or why not? "
   ]
  },
  {
   "cell_type": "code",
   "execution_count": 17,
   "metadata": {},
   "outputs": [
    {
     "data": {
      "image/png": "[encoded data removed]",
      "text/plain": [
       "<Figure size 720x432 with 1 Axes>"
      ]
     },
     "metadata": {
      "needs_background": "light"
     },
     "output_type": "display_data"
    }
   ],
   "source": [
    "# Let's plot and see the rolling statistics\n",
    "\n",
    "log_ret, wd_size = calc_log_ret(load_data()), 7\n",
    "rolling_mean, rolling_std = calc_rolling_stats(log_ret, wd_size)\n",
    "\n",
    "fig, ax = plt.subplots(figsize=(10, 6))\n",
    "ax.plot(log_ret, label=\"Log Return\")\n",
    "ax.plot(pd.Series(rolling_mean, index=log_ret.index), label=\"Rolling Mean\")\n",
    "ax.plot(pd.Series(rolling_std, index=log_ret.index), label=\"Rolling Std\")\n",
    "\n",
    "ax.set_xlabel(\"Day\")\n",
    "ax.set_title(\"Log Return of Daily New COVID-19 Cases Worldwide\\n\" + f\"Rolling Stats with Window Size = {wd_size} Days\")\n",
    "ax.legend()\n",
    "\n",
    "del fig, ax, log_ret, wd_size, rolling_mean, rolling_std"
   ]
  },
  {
   "cell_type": "markdown",
   "metadata": {},
   "source": [
    "Answer: For first 3 months, from january to march, there is high variance in time series and so for those months log return is not stationary. Hence, I suspect that we might need to drop some data to build the forecast. "
   ]
  },
  {
   "cell_type": "markdown",
   "metadata": {
    "deletable": false,
    "editable": false,
    "nbgrader": {
     "checksum": "665abe6e40e58a59bb9f961e357ebf3e",
     "grade": false,
     "grade_id": "cell-1e1b096292b15b41",
     "locked": true,
     "schema_version": 1,
     "solution": false
    }
   },
   "source": [
    "Yet another way of determining stationarity would be to use a statistical test, such as the [Augmented Dickey-Fuller unit root test](https://en.wikipedia.org/wiki/Augmented_Dickey%E2%80%93Fuller_test). The null hypothesis is usually that the time series is non-stationary. A $p$-value less than $0.05$ would lead to the conclusion that the time series is stationary, although some [scientists have rised up against this magic numer](https://www.nature.com/articles/d41586-019-00857-9)!"
   ]
  },
  {
   "cell_type": "code",
   "execution_count": 18,
   "metadata": {},
   "outputs": [
    {
     "name": "stdout",
     "output_type": "stream",
     "text": [
      "p-value: 0.67658525115441\n"
     ]
    }
   ],
   "source": [
    "# An example of performing an Augmented Dickey-Fuller unit root test\n",
    "\n",
    "from statsmodels.tsa.stattools import adfuller\n",
    "\n",
    "_, pval, *_ = adfuller(load_data())\n",
    "print(f\"p-value: {pval}\")\n",
    "\n",
    "del adfuller, pval"
   ]
  },
  {
   "cell_type": "markdown",
   "metadata": {
    "deletable": false,
    "editable": false,
    "nbgrader": {
     "checksum": "9501f6470fc115ee9199a85b9763d41a",
     "grade": false,
     "grade_id": "cell-2939c5cace465fa0",
     "locked": true,
     "schema_version": 1,
     "solution": false
    }
   },
   "source": [
    "## Question 2: Autocorrelations (10 pts)\n",
    "\n",
    "Observations in a time series are often not isolated but rather correlated. That is, there might be a correlation between an observation $y_{t}$ and another observation $y_{t - k}$ that is $k$ time steps (or *lags*) earlier. (Partial) autocorrelations precisely capture this idea. "
   ]
  },
  {
   "cell_type": "markdown",
   "metadata": {
    "deletable": false,
    "editable": false,
    "nbgrader": {
     "checksum": "dce0bff181e15e237ceeb84214f47998",
     "grade": false,
     "grade_id": "cell-f9dcce57f7fd0e4a",
     "locked": true,
     "schema_version": 1,
     "solution": false
    }
   },
   "source": [
    "### Question 2a (5 pts)\n",
    "\n",
    "Complete the function below to calculate the **Autocorrelation Function (ACF)** of the input time series, with the maximum number of lags to consider specified by the parameter `max_lag`. You may use the `acf` function from the `statsmodels` library. \n",
    "\n",
    "**This function should return a `np.ndarray` of length `max_lag + 1`.**"
   ]
  },
  {
   "cell_type": "markdown",
   "metadata": {},
   "source": [
    "### Testing code:"
   ]
  },
  {
   "cell_type": "code",
   "execution_count": 19,
   "metadata": {},
   "outputs": [],
   "source": [
    "#Import acf pacf\n",
    "from statsmodels.tsa.stattools import acf, pacf"
   ]
  },
  {
   "cell_type": "code",
   "execution_count": 20,
   "metadata": {},
   "outputs": [],
   "source": [
    "#ACF Test function:\n",
    "def calc_acf_test(ser, max_lag):\n",
    "    \n",
    "    #Apply ACF function from statsmodel:\n",
    "    result = acf(ser, nlags= max_lag)\n",
    "    \n",
    "    return result"
   ]
  },
  {
   "cell_type": "code",
   "execution_count": 21,
   "metadata": {},
   "outputs": [
    {
     "name": "stdout",
     "output_type": "stream",
     "text": [
      "31\n"
     ]
    },
    {
     "data": {
      "text/plain": [
       "array([1.        , 0.97535964, 0.94724559, 0.92385736, 0.91386313,\n",
       "       0.9167115 , 0.92474083, 0.92029816, 0.89570334, 0.86531167,\n",
       "       0.83986903, 0.82678187, 0.82650348, 0.82935306, 0.82125569,\n",
       "       0.79719604, 0.76575177, 0.74163109, 0.72568749, 0.72337754,\n",
       "       0.72382142, 0.71434956, 0.68860387, 0.65799162, 0.63121293,\n",
       "       0.61553004, 0.61048868, 0.60786787, 0.59472779, 0.56872414,\n",
       "       0.53846277])"
      ]
     },
     "execution_count": 21,
     "metadata": {},
     "output_type": "execute_result"
    }
   ],
   "source": [
    "#ACF Test result:\n",
    "print(len(calc_acf_test(load_data(), 30)))\n",
    "calc_acf_test(load_data(), 30)"
   ]
  },
  {
   "cell_type": "code",
   "execution_count": 22,
   "metadata": {},
   "outputs": [],
   "source": [
    "#PACF Test function:\n",
    "def calc_pacf_test(ser, max_lag):\n",
    "    \n",
    "    #Apply ACF function from statsmodel:\n",
    "    result = pacf(ser, nlags= max_lag)\n",
    "    \n",
    "    return result"
   ]
  },
  {
   "cell_type": "code",
   "execution_count": 23,
   "metadata": {},
   "outputs": [
    {
     "name": "stdout",
     "output_type": "stream",
     "text": [
      "31\n"
     ]
    },
    {
     "data": {
      "text/plain": [
       "array([ 1.        ,  0.9799822 , -0.10339728,  0.11285624,  0.31413872,\n",
       "        0.32346959,  0.24432008, -0.15533772, -0.41531656, -0.15955056,\n",
       "       -0.044813  , -0.00213089,  0.06448035,  0.08746445,  0.03537415,\n",
       "       -0.10067153, -0.14859595,  0.06374997, -0.14858939,  0.04486308,\n",
       "        0.08109585,  0.021711  , -0.14332192, -0.06695407, -0.06122983,\n",
       "        0.02371216, -0.07165237, -0.00560551, -0.02340175, -0.03582042,\n",
       "        0.00696828])"
      ]
     },
     "execution_count": 23,
     "metadata": {},
     "output_type": "execute_result"
    }
   ],
   "source": [
    "print(len(calc_pacf_test(load_data(), 30)))\n",
    "calc_pacf_test(load_data(), 30)"
   ]
  },
  {
   "cell_type": "markdown",
   "metadata": {},
   "source": [
    "### Implementing Code: "
   ]
  },
  {
   "cell_type": "code",
   "execution_count": 24,
   "metadata": {
    "deletable": false,
    "nbgrader": {
     "checksum": "97d9c5c8a9db00b3393abcc191dbdbdf",
     "grade": false,
     "grade_id": "cell-e896207bcc59798b",
     "locked": false,
     "schema_version": 1,
     "solution": true
    }
   },
   "outputs": [],
   "source": [
    "from statsmodels.tsa.stattools import acf\n",
    "def calc_acf(ser, max_lag):\n",
    "    \"\"\"\n",
    "    Takes a series and calculates the ACF\n",
    "    \"\"\"\n",
    "    \n",
    "    ans_acf = None\n",
    "    \n",
    "    # YOUR CODE HERE\n",
    "    ans_acf = acf(ser, nlags= max_lag)\n",
    "    \n",
    "    return ans_acf\n",
    "    raise NotImplementedError()\n",
    "    \n"
   ]
  },
  {
   "cell_type": "code",
   "execution_count": 25,
   "metadata": {},
   "outputs": [],
   "source": [
    "#len(calc_acf(load_data(), 30))"
   ]
  },
  {
   "cell_type": "code",
   "execution_count": 26,
   "metadata": {
    "deletable": false,
    "editable": false,
    "nbgrader": {
     "checksum": "cdacd89a79fe37e563374e08b94f3612",
     "grade": true,
     "grade_id": "cell-b9358e200e7341eb",
     "locked": true,
     "points": 5,
     "schema_version": 1,
     "solution": false
    }
   },
   "outputs": [],
   "source": [
    "# Autograder tests\n",
    "\n",
    "stu_ser, max_lag = load_data(), 30\n",
    "stu_ans = calc_acf(stu_ser, max_lag)\n",
    "\n",
    "assert isinstance(stu_ans, np.ndarray), \"Q2a: Your function should return a np.ndarray. \"\n",
    "assert len(stu_ans) == max_lag + 1, \"Q2a: The length of the ACF returned is incorrect. \"\n",
    "\n",
    "# Some hidden tests\n",
    "\n",
    "\n",
    "del stu_ans, stu_ser, max_lag"
   ]
  },
  {
   "cell_type": "markdown",
   "metadata": {
    "deletable": false,
    "editable": false,
    "nbgrader": {
     "checksum": "118bc9ff054954b16d1a9ea19fd9abe4",
     "grade": false,
     "grade_id": "cell-b06194f2c905a730",
     "locked": true,
     "schema_version": 1,
     "solution": false
    }
   },
   "source": [
    "Let's see a plot of the ACF. "
   ]
  },
  {
   "cell_type": "code",
   "execution_count": 27,
   "metadata": {},
   "outputs": [
    {
     "data": {
      "image/png": "[encoded data removed]",
      "text/plain": [
       "<Figure size 576x432 with 1 Axes>"
      ]
     },
     "metadata": {
      "needs_background": "light"
     },
     "output_type": "display_data"
    }
   ],
   "source": [
    "from statsmodels.graphics.tsaplots import plot_acf\n",
    "\n",
    "ser, max_lag = load_data(), 30\n",
    "\n",
    "fig, ax = plt.subplots(1, 1, figsize=(8, 6))\n",
    "\n",
    "plot_acf(ser, ax, lags=max_lag, title=\"Daily New COVID-19 Cases Worldwide\\nAutocorrelation Function\")\n",
    "ax.set_xlabel(r\"Lag\")\n",
    "ax.set_ylabel(r\"Correlation\")\n",
    "\n",
    "del fig, ax, ser, max_lag, plot_acf"
   ]
  },
  {
   "cell_type": "markdown",
   "metadata": {
    "deletable": false,
    "editable": false,
    "nbgrader": {
     "checksum": "6958dd9bdae57481f51f99d306a0462c",
     "grade": false,
     "grade_id": "cell-5246f448e422cd04",
     "locked": true,
     "schema_version": 1,
     "solution": false
    }
   },
   "source": [
    "### Question 2b (5 pts)\n",
    "\n",
    "Complete the function below to calculate the **Partial Autocorrelation Function (PACF)** of the input time series, with the maximum number of lags to consider specified by the parameter `max_lag`. You may use the `pacf` function from the `statsmodels` library. \n",
    "\n",
    "**This function should return a `np.ndarray` of length `max_lag + 1`.**"
   ]
  },
  {
   "cell_type": "markdown",
   "metadata": {},
   "source": [
    "### Implementing Code:"
   ]
  },
  {
   "cell_type": "code",
   "execution_count": 28,
   "metadata": {
    "deletable": false,
    "nbgrader": {
     "checksum": "a2a2427596d69b14fd7c868b5165754a",
     "grade": false,
     "grade_id": "cell-371c94cdc6c0929c",
     "locked": false,
     "schema_version": 1,
     "solution": true
    }
   },
   "outputs": [],
   "source": [
    "def calc_pacf(ser, max_lag):\n",
    "    \"\"\"\n",
    "    Takes a series and calculates the PACF\n",
    "    \"\"\"\n",
    "    \n",
    "    ans_pacf = None\n",
    "    \n",
    "    # YOUR CODE HERE\n",
    "    #Apply ACF function from statsmodel:\n",
    "    ans_pacf = pacf(ser, nlags= max_lag)\n",
    "    \n",
    "    return ans_pacf\n",
    "    raise NotImplementedError()\n",
    "    \n"
   ]
  },
  {
   "cell_type": "code",
   "execution_count": 29,
   "metadata": {
    "deletable": false,
    "editable": false,
    "nbgrader": {
     "checksum": "3fc0af2375a8357a9a0c49673a7aa9a4",
     "grade": true,
     "grade_id": "cell-9c2ceefef7c5d9c2",
     "locked": true,
     "points": 5,
     "schema_version": 1,
     "solution": false
    }
   },
   "outputs": [],
   "source": [
    "# Autograder tests\n",
    "\n",
    "stu_ser, max_lag = load_data(), 30\n",
    "stu_ans = calc_pacf(stu_ser, max_lag)\n",
    "\n",
    "assert isinstance(stu_ans, np.ndarray), \"Q2b: Your function should return a np.ndarray. \"\n",
    "assert len(stu_ans) == max_lag + 1, \"Q2b: The length of the PACF returned is incorrect. \"\n",
    "\n",
    "# Some hidden tests\n",
    "\n",
    "\n",
    "del stu_ans, stu_ser, max_lag"
   ]
  },
  {
   "cell_type": "markdown",
   "metadata": {
    "deletable": false,
    "editable": false,
    "nbgrader": {
     "checksum": "e1bae8f9e67fa24e9af843c22aa1108a",
     "grade": false,
     "grade_id": "cell-b51865eb271a7496",
     "locked": true,
     "schema_version": 1,
     "solution": false
    }
   },
   "source": [
    "Let's see a plot of the PACF. "
   ]
  },
  {
   "cell_type": "code",
   "execution_count": 30,
   "metadata": {},
   "outputs": [
    {
     "data": {
      "image/png": "[encoded data removed]",
      "text/plain": [
       "<Figure size 576x432 with 1 Axes>"
      ]
     },
     "metadata": {
      "needs_background": "light"
     },
     "output_type": "display_data"
    }
   ],
   "source": [
    "from statsmodels.graphics.tsaplots import plot_pacf\n",
    "\n",
    "ser, max_lag = load_data(), 30\n",
    "\n",
    "fig, ax = plt.subplots(1, 1, figsize=(8, 6))\n",
    "\n",
    "plot_pacf(ser, ax, lags=max_lag, title=\"Daily New COVID-19 Cases Worldwide\\nPartial Autocorrelation Function\")\n",
    "ax.set_xlabel(r\"Lag\")\n",
    "ax.set_ylabel(r\"Correlation\")\n",
    "\n",
    "del fig, ax, ser, max_lag, plot_pacf"
   ]
  },
  {
   "cell_type": "markdown",
   "metadata": {
    "deletable": false,
    "editable": false,
    "nbgrader": {
     "checksum": "ac340486da0ebc24124a8408d55c7c20",
     "grade": false,
     "grade_id": "cell-4b22a356806c732d",
     "locked": true,
     "schema_version": 1,
     "solution": false
    }
   },
   "source": [
    "## Question 3: ARMA on Log Returns (10 pts)\n",
    "\n",
    "Complete the function below that fits an $\\mathrm{ARMA}(p, q)$ model on the **log return** of an input series. Your function should return a multi-day forecast in the original data space (i.e., the number of daily new cases globally) starting from `2020-08-22`. For example, if `num_forecasts=20`, your function should return a `pd.Series` similar to\n",
    "\n",
    "\n",
    "```\n",
    "2020-08-22    239936.746954\n",
    "2020-08-23    237307.407386\n",
    "2020-08-24    240073.408295\n",
    "                ...\n",
    "2020-09-08    279778.977067\n",
    "2020-09-09    307210.157343\n",
    "2020-09-10    305203.431533\n",
    "Freq: D, Name: predicted_mean, dtype: float64\n",
    "\n",
    "```\n",
    "\n",
    "where\n",
    "* the index of the series is a `pd.DatetimeIndex`; \n",
    "* the values of the series are the forecasted daily new cases; and\n",
    "* the series doesn't contain any `NaN` values. \n",
    "\n",
    "This question is graded on the Root Mean Sqaure Error (RMSE) of your forecasts. You have complete freedom in how you'd like to implement the function, but one recommended API to use is the `ARIMA` class from the `statsmodels` library. Why do we recommend `ARIMA`, when the question actually asks for a $\\mathrm{ARMA}(p, q)$ model? Hopefully you'll find it out while working on the implementation!\n",
    "\n",
    "**This function should return a `pd.Series` of length `num_forecasts`, whose index is a `pd.DatetimeIndex`.**"
   ]
  },
  {
   "cell_type": "markdown",
   "metadata": {},
   "source": [
    "### Testing Code:"
   ]
  },
  {
   "cell_type": "code",
   "execution_count": 31,
   "metadata": {},
   "outputs": [
    {
     "data": {
      "text/plain": [
       "date\n",
       "2020-01-23     4.595120\n",
       "2020-01-24     5.659482\n",
       "2020-01-25     6.200509\n",
       "2020-01-26     6.527958\n",
       "2020-01-27     6.695799\n",
       "                ...    \n",
       "2020-08-17    12.253300\n",
       "2020-08-18    12.449395\n",
       "2020-08-19    12.522145\n",
       "2020-08-20    12.495689\n",
       "2020-08-21    12.508955\n",
       "Length: 212, dtype: float64"
      ]
     },
     "execution_count": 31,
     "metadata": {},
     "output_type": "execute_result"
    }
   ],
   "source": [
    "#Take log of time series:\n",
    "log_data = np.log(load_data())\n",
    "log_data"
   ]
  },
  {
   "cell_type": "code",
   "execution_count": 32,
   "metadata": {},
   "outputs": [
    {
     "data": {
      "text/plain": [
       "<matplotlib.axes._subplots.AxesSubplot at 0x7fb7195b5080>"
      ]
     },
     "execution_count": 32,
     "metadata": {},
     "output_type": "execute_result"
    },
    {
     "data": {
      "image/png": "[encoded data removed]",
      "text/plain": [
       "<Figure size 432x288 with 1 Axes>"
      ]
     },
     "metadata": {
      "needs_background": "light"
     },
     "output_type": "display_data"
    }
   ],
   "source": [
    "#Plot log of time series: \n",
    "log_data.plot()\n",
    "\n",
    "#here I notice that log series before April is non-stationary, even after applying log transformation."
   ]
  },
  {
   "cell_type": "code",
   "execution_count": 33,
   "metadata": {},
   "outputs": [
    {
     "data": {
      "text/plain": [
       "<matplotlib.axes._subplots.AxesSubplot at 0x7fb7093fa828>"
      ]
     },
     "execution_count": 33,
     "metadata": {},
     "output_type": "execute_result"
    },
    {
     "data": {
      "image/png": "[encoded data removed]",
      "text/plain": [
       "<Figure size 432x288 with 1 Axes>"
      ]
     },
     "metadata": {
      "needs_background": "light"
     },
     "output_type": "display_data"
    }
   ],
   "source": [
    "#If we consider last 110 days, then we can probably get rid of some of the trend, we were observaing earlier. \n",
    "log_data[-110:].plot()"
   ]
  },
  {
   "cell_type": "code",
   "execution_count": 34,
   "metadata": {},
   "outputs": [],
   "source": [
    "#Import ARIMA package: \n",
    "from statsmodels.tsa.arima_model import ARIMA, ARMA\n",
    "def arma_log_ret_test(ser, p, q, num_forecasts):\n",
    "    \n",
    "    #Prepare Data for AMRA(p,d=0,q):\n",
    "    #Log return of input series: \n",
    "\n",
    "    log_data = np.log(ser)\n",
    "    log_data.head()\n",
    "    \n",
    "    #Initiate ARIMA model where we will set differencing parameter D = 1 to obtain ARMA for log return time series\n",
    "   \n",
    "    model_arma = ARIMA(log_data, order = (p,1,q))\n",
    "    \n",
    "    #Train ARMA model: Here I have set transparams= False, and have set start_ar_lags = 1 \n",
    "    #Trail-1:model_arma_fit = model_arma.fit(transparams=False, start_ar_lags=1) #autograder does not allow us to use these parameters. \n",
    "    \n",
    "    #Trial 2: Fit ARIMA model\n",
    "    model_arma_fit = model_arma.fit()\n",
    "    \n",
    "    \n",
    "    #Forecast for next 20 days starting from 2020-08-22 and transform log return to match with the original time series. \n",
    "    forecast = np.exp(model_arma_fit.forecast(steps =num_forecasts))\n",
    "    \n",
    "    #Create date index starting from 2020-08-22 to 2020-09-10: \n",
    "    forecast_date_index = np.array('2020-08-22', dtype=np.datetime64)+np.arange(20)\n",
    "    \n",
    "    #Create forecasted date seriesL\n",
    "    forecast_series = pd.Series(forecast, index= forecast_date_index)\n",
    "    \n",
    "    return forecast_series\n"
   ]
  },
  {
   "cell_type": "code",
   "execution_count": 35,
   "metadata": {},
   "outputs": [],
   "source": [
    "#arma_log_ret_test(load_data(), 7, 7, 20) (don't run)"
   ]
  },
  {
   "cell_type": "markdown",
   "metadata": {},
   "source": [
    "### Implementing Code: "
   ]
  },
  {
   "cell_type": "code",
   "execution_count": 36,
   "metadata": {
    "deletable": false,
    "nbgrader": {
     "checksum": "48c740b20965ba5c77bb586d78e60d50",
     "grade": false,
     "grade_id": "cell-69afe3a5c5318d23",
     "locked": false,
     "schema_version": 1,
     "solution": true
    }
   },
   "outputs": [],
   "source": [
    "from statsmodels.tsa.arima.model import ARIMA\n",
    "\n",
    "def arma_log_ret(ser, p, q, num_forecasts):\n",
    "    \"\"\"\n",
    "    Takes a series and fits an ARMA(p, q) model on log return. \n",
    "    Returns a number of forecasts as specified by num_forecasts. \n",
    "    \"\"\"\n",
    "    \n",
    "    forecasts = None\n",
    "    \n",
    "    # YOUR CODE HERE\n",
    "    #Prepare Data for AMRA(p,d=0,q):\n",
    "    #Log return of input series: \n",
    "    log_data = np.log(ser)\n",
    "    log_data.head()\n",
    "    \n",
    "    #Initiate ARIMA model where we will set differencing parameter D = 1 to obtain ARMA for log return time series.\n",
    "    \n",
    "    model_arma = ARIMA(log_data, order = (p,1,q))\n",
    "    \n",
    "    #Fit ARIMA model\n",
    "    model_arma_fit = model_arma.fit()\n",
    "    \n",
    "    \n",
    "    #Forecast for next 20 days starting from 2020-08-22 and transform log return to match with the original time series. \n",
    "    forecast = pd.Series(np.exp(model_arma_fit.forecast(steps =num_forecasts))).dropna()\n",
    "    \n",
    "    #Create date index starting from 2020-08-22 to 2020-09-10: \n",
    "    forecast_date_index = np.array('2020-08-22', dtype=np.datetime64)+np.arange(20)\n",
    "    \n",
    "    #Create forecasted date seriesL\n",
    "    forecast_series = pd.Series(forecast, index= forecast_date_index)\n",
    "    \n",
    "    return forecast_series\n",
    "    \n",
    "    raise NotImplementedError()\n",
    "    \n"
   ]
  },
  {
   "cell_type": "code",
   "execution_count": 37,
   "metadata": {},
   "outputs": [
    {
     "name": "stderr",
     "output_type": "stream",
     "text": [
      "/opt/conda/lib/python3.7/site-packages/statsmodels/base/model.py:568: ConvergenceWarning: Maximum Likelihood optimization failed to converge. Check mle_retvals\n",
      "  ConvergenceWarning)\n"
     ]
    },
    {
     "data": {
      "text/plain": [
       "2020-08-22    239936.746954\n",
       "2020-08-23    237307.407386\n",
       "2020-08-24    240073.408295\n",
       "2020-08-25    260771.782687\n",
       "2020-08-26    307479.750686\n",
       "2020-08-27    319215.810028\n",
       "2020-08-28    281323.660568\n",
       "2020-08-29    242417.330797\n",
       "2020-08-30    222517.126267\n",
       "2020-08-31    238214.911303\n",
       "2020-09-01    283402.826383\n",
       "2020-09-02    311071.317524\n",
       "2020-09-03    303034.674901\n",
       "2020-09-04    274756.518566\n",
       "2020-09-05    240197.755058\n",
       "2020-09-06    228221.412244\n",
       "2020-09-07    247180.266339\n",
       "2020-09-08    279778.977067\n",
       "2020-09-09    307210.157343\n",
       "2020-09-10    305203.431533\n",
       "Name: predicted_mean, dtype: float64"
      ]
     },
     "execution_count": 37,
     "metadata": {},
     "output_type": "execute_result"
    }
   ],
   "source": [
    "arma_log_ret(load_data(), 7, 7, 20)"
   ]
  },
  {
   "cell_type": "code",
   "execution_count": 38,
   "metadata": {
    "deletable": false,
    "editable": false,
    "nbgrader": {
     "checksum": "288989e003c7bc383bdd4a4c52256f9d",
     "grade": true,
     "grade_id": "cell-42effd305abc8d0d",
     "locked": true,
     "points": 10,
     "schema_version": 1,
     "solution": false
    }
   },
   "outputs": [
    {
     "name": "stderr",
     "output_type": "stream",
     "text": [
      "/opt/conda/lib/python3.7/site-packages/statsmodels/base/model.py:568: ConvergenceWarning: Maximum Likelihood optimization failed to converge. Check mle_retvals\n",
      "  ConvergenceWarning)\n"
     ]
    }
   ],
   "source": [
    "# Autograder tests\n",
    "\n",
    "stu_ser = load_data()\n",
    "p, q, num_forecasts = 7, 7, 20\n",
    "\n",
    "stu_ans = arma_log_ret(stu_ser, p, q, num_forecasts)\n",
    "\n",
    "assert isinstance(stu_ans, pd.Series), \"Q3: Your function should return a pd.Series. \"\n",
    "assert len(stu_ans) == num_forecasts, \"Q3: The length of the series returned is incorrect. \"\n",
    "assert isinstance(stu_ans.index, pd.DatetimeIndex), \"Q3: The index of your series must be a pd.DatetimeIndex. \"\n",
    "assert ((\"2020-08-22\" <= stu_ans.index) & (stu_ans.index <= \"2020-09-10\")).all(), \"Q3: The index of your series contains an incorrect time range. \"\n",
    "assert not stu_ans.isna().any(), \"Q3: Your series contains NaN values. \"\n",
    "\n",
    "# Some hidden tests\n",
    "\n",
    "\n",
    "del stu_ser, stu_ans, p, q, num_forecasts"
   ]
  },
  {
   "cell_type": "code",
   "execution_count": 39,
   "metadata": {},
   "outputs": [],
   "source": [
    "model_arma = ARMA(np.log(load_data()), order = (9,9))"
   ]
  },
  {
   "cell_type": "markdown",
   "metadata": {
    "deletable": false,
    "editable": false,
    "nbgrader": {
     "checksum": "85f7499158e69167ebc8965f2cb5f51a",
     "grade": false,
     "grade_id": "cell-221cc22c9e3cad75",
     "locked": true,
     "schema_version": 1,
     "solution": false
    }
   },
   "source": [
    "Now let's plot and compare the original time series, your forecasts and the ground-truth values of your forecasts. "
   ]
  },
  {
   "cell_type": "code",
   "execution_count": 40,
   "metadata": {},
   "outputs": [
    {
     "name": "stderr",
     "output_type": "stream",
     "text": [
      "/opt/conda/lib/python3.7/site-packages/statsmodels/base/model.py:568: ConvergenceWarning: Maximum Likelihood optimization failed to converge. Check mle_retvals\n",
      "  ConvergenceWarning)\n"
     ]
    },
    {
     "data": {
      "image/png": "[encoded data removed]",
      "text/plain": [
       "<Figure size 720x432 with 1 Axes>"
      ]
     },
     "metadata": {
      "needs_background": "light"
     },
     "output_type": "display_data"
    }
   ],
   "source": [
    "ser = load_data()\n",
    "p, q, num_forecasts = 7, 7, 20\n",
    "\n",
    "forecasts = arma_log_ret(ser, p, q, num_forecasts)\n",
    "actual = pd.read_pickle(\"assets/actual.pkl\")\n",
    "rmse = np.sqrt(np.mean((actual - forecasts) ** 2))\n",
    "\n",
    "fig, ax = plt.subplots(figsize=(10, 6))\n",
    "ax.plot(ser, label=\"Original\")\n",
    "ax.plot(ser[-1:].append(forecasts), label=\"Forecasted\")\n",
    "ax.plot(ser[-1:].append(actual), label=\"Actual\")\n",
    "\n",
    "ax.set_xlabel(\"Day\")\n",
    "ax.set_title(\"Daily New COVID-19 Cases Worldwide\\n\" + f\"A {len(forecasts)}-day Forecast, RMSE = {rmse: .2f}\")\n",
    "ax.legend()\n",
    "\n",
    "del fig, ax, ser, p, q, num_forecasts, forecasts, actual"
   ]
  },
  {
   "cell_type": "markdown",
   "metadata": {
    "deletable": false,
    "editable": false,
    "nbgrader": {
     "checksum": "e0fd699f1b1257b19b94c1a50ec4509f",
     "grade": false,
     "grade_id": "cell-caf5a40a85230775",
     "locked": true,
     "schema_version": 1,
     "solution": false
    }
   },
   "source": [
    "## Question 4: ARMA on First-order Differences (10 pts)\n",
    "\n",
    "Complete the function below that fits an $\\mathrm{ARMA}(p, q)$ model on the **first-order differences** of an input series. Your function should return a multi-day forecast in the original data space (i.e., the number of daily new cases globally) starting from `2020-08-22`. For example, if `num_forecasts=20`, your function should return a `pd.Series` similar to\n",
    "\n",
    "\n",
    "```\n",
    "2020-08-22    242994.084820\n",
    "2020-08-23    205194.792913\n",
    "2020-08-24    201803.644029\n",
    "                ...\n",
    "2020-09-08    214574.419936\n",
    "2020-09-09    243506.281330\n",
    "2020-09-10    253847.751339\n",
    "Freq: D, Name: predicted_mean, dtype: float64\n",
    "```\n",
    "\n",
    "where\n",
    "* the index of the series is a `pd.DatetimeIndex`; \n",
    "* the values of the series are the forecasted daily new cases; and\n",
    "* the series doesn't contain any `NaN` values. \n",
    "\n",
    "This question is graded on the Root Mean Sqaure Error (RMSE) of your forecasts. You have complete freedom in how you'd like to implement the function, but one recommended API to use is the `ARIMA` class from the `statsmodels` library. Why do we recommend `ARIMA`, when the question actually asks for a $\\mathrm{ARMA}(p, q)$ model? Again, hopefully you'll find it out while working on the implementation!\n",
    "\n",
    "**This function should return a `pd.Series` of length `num_forecasts`, whose index is a `pd.DatetimeIndex`.**"
   ]
  },
  {
   "cell_type": "markdown",
   "metadata": {},
   "source": [
    "### Testing code: "
   ]
  },
  {
   "cell_type": "code",
   "execution_count": 41,
   "metadata": {},
   "outputs": [
    {
     "data": {
      "text/plain": [
       "date\n",
       "2020-01-23        99\n",
       "2020-01-24       287\n",
       "2020-01-25       493\n",
       "2020-01-26       684\n",
       "2020-01-27       809\n",
       "               ...  \n",
       "2020-08-17    209672\n",
       "2020-08-18    255096\n",
       "2020-08-19    274346\n",
       "2020-08-20    267183\n",
       "2020-08-21    270751\n",
       "Length: 212, dtype: int64"
      ]
     },
     "execution_count": 41,
     "metadata": {},
     "output_type": "execute_result"
    }
   ],
   "source": [
    "#First order difference can be calculated by setting D=1. So, we will take the original series and set p,d,q parameters:\n",
    "load_data()"
   ]
  },
  {
   "cell_type": "code",
   "execution_count": 42,
   "metadata": {},
   "outputs": [],
   "source": [
    "data_diff = pd.Series((load_data()[1:].values - load_data()[:-1].values), index = load_data()[1:].index)"
   ]
  },
  {
   "cell_type": "markdown",
   "metadata": {},
   "source": [
    "### Implementing Code:"
   ]
  },
  {
   "cell_type": "code",
   "execution_count": 43,
   "metadata": {
    "deletable": false,
    "nbgrader": {
     "checksum": "65bfc5437a3f189801359fa038b4b5ba",
     "grade": false,
     "grade_id": "cell-e02c1a2ff068f6c2",
     "locked": false,
     "schema_version": 1,
     "solution": true
    }
   },
   "outputs": [],
   "source": [
    "from statsmodels.tsa.arima.model import ARIMA\n",
    "\n",
    "def arma_first_diff(ser, p, q, num_forecasts):\n",
    "    \"\"\"\n",
    "    Takes a series and fits an ARMA(p, q) model on first-order diff. \n",
    "    Returns a number of forecasts as specified by num_forecasts. \n",
    "    \"\"\"\n",
    "    \n",
    "    forecasts = None\n",
    "    \n",
    "    # YOUR CODE HERE\n",
    "    \n",
    "    #Initiate ARIMA model where we will set differencing parameter D = 1 to obtain first order ARMA model.\n",
    "    model_arma = ARIMA(ser, order = (p,1,q))\n",
    "    \n",
    "\n",
    "    #Fit ARIMA model\n",
    "    model_arma_fit = model_arma.fit()\n",
    "    \n",
    "    \n",
    "    #Forecast for next 20 days starting from 2020-08-22. \n",
    "    forecast = pd.Series(model_arma_fit.forecast(steps =num_forecasts))\n",
    "    \n",
    "    #Create date index starting from 2020-08-22 to 2020-09-10: \n",
    "    forecast_date_index = np.array('2020-08-22', dtype=np.datetime64)+np.arange(20)\n",
    "    \n",
    "    #Create forecasted date seriesL\n",
    "    forecast_series = pd.Series(forecast, index= forecast_date_index)\n",
    "    \n",
    "    return forecast_series\n",
    "    raise NotImplementedError()\n",
    "    "
   ]
  },
  {
   "cell_type": "code",
   "execution_count": 44,
   "metadata": {},
   "outputs": [
    {
     "name": "stderr",
     "output_type": "stream",
     "text": [
      "/opt/conda/lib/python3.7/site-packages/statsmodels/base/model.py:568: ConvergenceWarning: Maximum Likelihood optimization failed to converge. Check mle_retvals\n",
      "  ConvergenceWarning)\n"
     ]
    },
    {
     "data": {
      "text/plain": [
       "2020-08-22    242994.084820\n",
       "2020-08-23    205194.792913\n",
       "2020-08-24    201803.644029\n",
       "2020-08-25    234062.883413\n",
       "2020-08-26    261217.561111\n",
       "2020-08-27    267464.168730\n",
       "2020-08-28    256064.331459\n",
       "2020-08-29    226802.088289\n",
       "2020-08-30    197856.540449\n",
       "2020-08-31    195818.418327\n",
       "2020-09-01    222399.677772\n",
       "2020-09-02    251052.707715\n",
       "2020-09-03    260909.780020\n",
       "2020-09-04    246186.483585\n",
       "2020-09-05    215880.502976\n",
       "2020-09-06    190149.187984\n",
       "2020-09-07    189886.289042\n",
       "2020-09-08    214574.419936\n",
       "2020-09-09    243506.281330\n",
       "2020-09-10    253847.751339\n",
       "Name: predicted_mean, dtype: float64"
      ]
     },
     "execution_count": 44,
     "metadata": {},
     "output_type": "execute_result"
    }
   ],
   "source": [
    "arma_first_diff(load_data(), 7, 7, 20)"
   ]
  },
  {
   "cell_type": "code",
   "execution_count": 45,
   "metadata": {
    "deletable": false,
    "editable": false,
    "nbgrader": {
     "checksum": "22a3a3023796444715cef0b40b81841c",
     "grade": true,
     "grade_id": "cell-da7ae71db1772443",
     "locked": true,
     "points": 10,
     "schema_version": 1,
     "solution": false
    }
   },
   "outputs": [
    {
     "name": "stderr",
     "output_type": "stream",
     "text": [
      "/opt/conda/lib/python3.7/site-packages/statsmodels/base/model.py:568: ConvergenceWarning: Maximum Likelihood optimization failed to converge. Check mle_retvals\n",
      "  ConvergenceWarning)\n"
     ]
    }
   ],
   "source": [
    "# Autograder tests\n",
    "\n",
    "stu_ser = load_data()\n",
    "p, q, num_forecasts = 7, 7, 20\n",
    "\n",
    "stu_ans = arma_first_diff(stu_ser, p, q, num_forecasts)\n",
    "\n",
    "assert isinstance(stu_ans, pd.Series), \"Q4: Your function should return a pd.Series. \"\n",
    "assert len(stu_ans) == num_forecasts, \"Q4: The length of the series returned is incorrect. \"\n",
    "assert isinstance(stu_ans.index, pd.DatetimeIndex), \"Q4: The index of your series must be a pd.DatetimeIndex. \"\n",
    "assert ((\"2020-08-22\" <= stu_ans.index) & (stu_ans.index <= \"2020-09-10\")).all(), \"Q4: The index of your series contains an incorrect time range. \"\n",
    "assert not stu_ans.isna().any(), \"Q4: Your series contains NaN values. \"\n",
    "\n",
    "# Some hidden tests\n",
    "\n",
    "\n",
    "del stu_ser, stu_ans, p, q, num_forecasts"
   ]
  },
  {
   "cell_type": "markdown",
   "metadata": {
    "deletable": false,
    "editable": false,
    "nbgrader": {
     "checksum": "ffd533cb430c5a3827d3acdce6ffdc4c",
     "grade": false,
     "grade_id": "cell-5405507ff23a5069",
     "locked": true,
     "schema_version": 1,
     "solution": false
    }
   },
   "source": [
    "Now let's plot and compare the original time series, your forecasts and the ground-truth values of your forecasts. How does this compare with the one trained on log returns? "
   ]
  },
  {
   "cell_type": "code",
   "execution_count": 46,
   "metadata": {},
   "outputs": [
    {
     "name": "stderr",
     "output_type": "stream",
     "text": [
      "/opt/conda/lib/python3.7/site-packages/statsmodels/base/model.py:568: ConvergenceWarning: Maximum Likelihood optimization failed to converge. Check mle_retvals\n",
      "  ConvergenceWarning)\n"
     ]
    },
    {
     "data": {
      "image/png": "[encoded data removed]",
      "text/plain": [
       "<Figure size 720x432 with 1 Axes>"
      ]
     },
     "metadata": {
      "needs_background": "light"
     },
     "output_type": "display_data"
    }
   ],
   "source": [
    "ser = load_data()\n",
    "p, q, num_forecasts = 7, 7, 20\n",
    "\n",
    "forecasts = arma_first_diff(ser, p, q, num_forecasts)\n",
    "actual = pd.read_pickle(\"assets/actual.pkl\")\n",
    "rmse = np.sqrt(np.mean((actual - forecasts) ** 2))\n",
    "\n",
    "fig, ax = plt.subplots(figsize=(10, 6))\n",
    "ax.plot(ser, label=\"Original\")\n",
    "ax.plot(ser[-1:].append(forecasts), label=\"Forecasted\")\n",
    "ax.plot(ser[-1:].append(actual), label=\"Actual\")\n",
    "\n",
    "ax.set_xlabel(\"Day\")\n",
    "ax.set_title(\"Daily New COVID-19 Cases Worldwide\\n\" + f\"A {len(forecasts)}-day Forecast, RMSE = {rmse: .2f}\")\n",
    "ax.legend()\n",
    "\n",
    "del fig, ax, ser, p, q, num_forecasts, forecasts, actual"
   ]
  },
  {
   "cell_type": "code",
   "execution_count": null,
   "metadata": {},
   "outputs": [],
   "source": []
  }
 ],
 "metadata": {
  "coursera": {
   "schema_names": [
    "mads_data_mining_ii_v1_assignment3_part1"
   ]
  },
  "kernelspec": {
   "display_name": "Python 3",
   "language": "python",
   "name": "python3"
  },
  "language_info": {
   "codemirror_mode": {
    "name": "ipython",
    "version": 3
   },
   "file_extension": ".py",
   "mimetype": "text/x-python",
   "name": "python",
   "nbconvert_exporter": "python",
   "pygments_lexer": "ipython3",
   "version": "3.6.6"
  }
 },
 "nbformat": 4,
 "nbformat_minor": 1
}
